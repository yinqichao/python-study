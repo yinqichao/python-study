{
 "cells": [
  {
   "cell_type": "code",
   "id": "initial_id",
   "metadata": {
    "collapsed": true,
    "ExecuteTime": {
     "end_time": "2025-01-20T05:57:34.143642Z",
     "start_time": "2025-01-20T05:57:33.937463Z"
    }
   },
   "source": [
    "import numpy as np\n",
    "\n",
    "x = np.array([1.0, 2.0, 3.0])\n",
    "print(x)"
   ],
   "outputs": [
    {
     "name": "stdout",
     "output_type": "stream",
     "text": [
      "[1. 2. 3.]\n"
     ]
    }
   ],
   "execution_count": 3
  },
  {
   "metadata": {
    "ExecuteTime": {
     "end_time": "2025-01-20T05:57:36.728234Z",
     "start_time": "2025-01-20T05:57:36.718913Z"
    }
   },
   "cell_type": "code",
   "source": "type(x)",
   "id": "3ed0044e2fc2b08f",
   "outputs": [
    {
     "data": {
      "text/plain": [
       "numpy.ndarray"
      ]
     },
     "execution_count": 4,
     "metadata": {},
     "output_type": "execute_result"
    }
   ],
   "execution_count": 4
  },
  {
   "metadata": {
    "ExecuteTime": {
     "end_time": "2025-01-20T05:57:37.564801Z",
     "start_time": "2025-01-20T05:57:37.558287Z"
    }
   },
   "cell_type": "code",
   "source": [
    "x = np.array([1.0, 2.0, 3.0])\n",
    "y = np.array([2.0, 4.0, 6.0])\n",
    "x + y"
   ],
   "id": "83e9e3bcaf8cad5f",
   "outputs": [
    {
     "data": {
      "text/plain": [
       "array([3., 6., 9.])"
      ]
     },
     "execution_count": 5,
     "metadata": {},
     "output_type": "execute_result"
    }
   ],
   "execution_count": 5
  },
  {
   "metadata": {
    "ExecuteTime": {
     "end_time": "2025-01-20T05:57:38.796992Z",
     "start_time": "2025-01-20T05:57:38.792224Z"
    }
   },
   "cell_type": "code",
   "source": "x * 2",
   "id": "b28307be5d23019a",
   "outputs": [
    {
     "data": {
      "text/plain": [
       "array([2., 4., 6.])"
      ]
     },
     "execution_count": 6,
     "metadata": {},
     "output_type": "execute_result"
    }
   ],
   "execution_count": 6
  },
  {
   "metadata": {
    "ExecuteTime": {
     "end_time": "2025-01-20T05:58:19.668522Z",
     "start_time": "2025-01-20T05:58:19.660622Z"
    }
   },
   "cell_type": "code",
   "source": [
    "x = np.array([[1.0, 2.0, 3.0], [4.0, 5.0, 6.0]])\n",
    "x"
   ],
   "id": "9a1b1778af03214c",
   "outputs": [
    {
     "data": {
      "text/plain": [
       "array([[1., 2., 3.],\n",
       "       [4., 5., 6.]])"
      ]
     },
     "execution_count": 7,
     "metadata": {},
     "output_type": "execute_result"
    }
   ],
   "execution_count": 7
  },
  {
   "metadata": {
    "ExecuteTime": {
     "end_time": "2025-01-20T05:58:42.870052Z",
     "start_time": "2025-01-20T05:58:42.864997Z"
    }
   },
   "cell_type": "code",
   "source": "x.shape",
   "id": "139491d4583d1e94",
   "outputs": [
    {
     "data": {
      "text/plain": [
       "(2, 3)"
      ]
     },
     "execution_count": 8,
     "metadata": {},
     "output_type": "execute_result"
    }
   ],
   "execution_count": 8
  },
  {
   "metadata": {
    "ExecuteTime": {
     "end_time": "2025-01-20T06:00:14.277700Z",
     "start_time": "2025-01-20T06:00:14.271697Z"
    }
   },
   "cell_type": "code",
   "source": "x + y",
   "id": "62c0bbdb670a89f",
   "outputs": [
    {
     "data": {
      "text/plain": [
       "array([[ 3.,  6.,  9.],\n",
       "       [ 6.,  9., 12.]])"
      ]
     },
     "execution_count": 9,
     "metadata": {},
     "output_type": "execute_result"
    }
   ],
   "execution_count": 9
  },
  {
   "metadata": {
    "ExecuteTime": {
     "end_time": "2025-01-20T06:01:12.223341Z",
     "start_time": "2025-01-20T06:01:12.216967Z"
    }
   },
   "cell_type": "code",
   "source": [
    "x = x.flatten()\n",
    "x"
   ],
   "id": "8cf03fe543395cb5",
   "outputs": [
    {
     "data": {
      "text/plain": [
       "array([1., 2., 3., 4., 5., 6.])"
      ]
     },
     "execution_count": 11,
     "metadata": {},
     "output_type": "execute_result"
    }
   ],
   "execution_count": 11
  },
  {
   "metadata": {
    "ExecuteTime": {
     "end_time": "2025-01-20T06:01:26.410041Z",
     "start_time": "2025-01-20T06:01:26.403260Z"
    }
   },
   "cell_type": "code",
   "source": "x[np.array([0, 2, 4])]",
   "id": "f42a85a1598b9e03",
   "outputs": [
    {
     "data": {
      "text/plain": [
       "array([1., 3., 5.])"
      ]
     },
     "execution_count": 12,
     "metadata": {},
     "output_type": "execute_result"
    }
   ],
   "execution_count": 12
  },
  {
   "metadata": {
    "ExecuteTime": {
     "end_time": "2025-01-20T06:01:55.810791Z",
     "start_time": "2025-01-20T06:01:55.774932Z"
    }
   },
   "cell_type": "code",
   "source": "x[x > 3]",
   "id": "5fb0de3190dfbc0d",
   "outputs": [
    {
     "data": {
      "text/plain": [
       "array([4., 5., 6.])"
      ]
     },
     "execution_count": 14,
     "metadata": {},
     "output_type": "execute_result"
    }
   ],
   "execution_count": 14
  }
 ],
 "metadata": {
  "kernelspec": {
   "display_name": "Python 3",
   "language": "python",
   "name": "python3"
  },
  "language_info": {
   "codemirror_mode": {
    "name": "ipython",
    "version": 2
   },
   "file_extension": ".py",
   "mimetype": "text/x-python",
   "name": "python",
   "nbconvert_exporter": "python",
   "pygments_lexer": "ipython2",
   "version": "2.7.6"
  }
 },
 "nbformat": 4,
 "nbformat_minor": 5
}
