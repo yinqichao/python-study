{
 "cells": [
  {
   "cell_type": "code",
   "id": "initial_id",
   "metadata": {
    "collapsed": true,
    "ExecuteTime": {
     "end_time": "2025-01-24T03:08:50.092987Z",
     "start_time": "2025-01-24T03:08:50.086286Z"
    }
   },
   "source": [
    "import numpy as np\n",
    "\n",
    "\n",
    "def numerical_gradient(f, x):\n",
    "    h = 1e-4\n",
    "    grad = np.zeros_like(x)\n",
    "\n",
    "    for idx in range(x.size):\n",
    "        tmp_val = x[idx]\n",
    "\n",
    "        # f(x+h)的计算\n",
    "        x[idx] = tmp_val + h\n",
    "        fxh1 = f(x)\n",
    "\n",
    "        # f(x-h)的计算\n",
    "        x[idx] = tmp_val - h\n",
    "        fxh2 = f(x)\n",
    "\n",
    "        grad[idx] = (fxh1 - fxh2) / (2 * h)\n",
    "        x[idx] = tmp_val\n",
    "\n",
    "    return grad"
   ],
   "outputs": [],
   "execution_count": 11
  },
  {
   "metadata": {
    "ExecuteTime": {
     "end_time": "2025-01-24T03:08:50.120895Z",
     "start_time": "2025-01-24T03:08:50.116075Z"
    }
   },
   "cell_type": "code",
   "source": [
    "def function_2(x):\n",
    "    return np.sum(x ** 2)"
   ],
   "id": "7f04221b8ad6138f",
   "outputs": [],
   "execution_count": 12
  },
  {
   "metadata": {
    "ExecuteTime": {
     "end_time": "2025-01-24T03:08:50.153757Z",
     "start_time": "2025-01-24T03:08:50.145652Z"
    }
   },
   "cell_type": "code",
   "source": "numerical_gradient(function_2, np.array([3.0, 4.0]))",
   "id": "fb4673d56e49aef6",
   "outputs": [
    {
     "data": {
      "text/plain": [
       "array([6., 8.])"
      ]
     },
     "execution_count": 13,
     "metadata": {},
     "output_type": "execute_result"
    }
   ],
   "execution_count": 13
  },
  {
   "metadata": {
    "ExecuteTime": {
     "end_time": "2025-01-24T03:08:50.234630Z",
     "start_time": "2025-01-24T03:08:50.226743Z"
    }
   },
   "cell_type": "code",
   "source": "numerical_gradient(function_2, np.array([0.0, 2.0]))",
   "id": "ec4fa96f1f335f8e",
   "outputs": [
    {
     "data": {
      "text/plain": [
       "array([0., 4.])"
      ]
     },
     "execution_count": 14,
     "metadata": {},
     "output_type": "execute_result"
    }
   ],
   "execution_count": 14
  },
  {
   "metadata": {
    "ExecuteTime": {
     "end_time": "2025-01-24T03:08:50.288937Z",
     "start_time": "2025-01-24T03:08:50.279045Z"
    }
   },
   "cell_type": "code",
   "source": "numerical_gradient(function_2, np.array([3.0, 0.0]))",
   "id": "73da7306adb74652",
   "outputs": [
    {
     "data": {
      "text/plain": [
       "array([6., 0.])"
      ]
     },
     "execution_count": 15,
     "metadata": {},
     "output_type": "execute_result"
    }
   ],
   "execution_count": 15
  },
  {
   "metadata": {
    "ExecuteTime": {
     "end_time": "2025-01-24T03:08:50.359568Z",
     "start_time": "2025-01-24T03:08:50.350098Z"
    }
   },
   "cell_type": "code",
   "source": "numerical_gradient(function_2, np.array([3.0, 4.0, 5.0]))",
   "id": "f122da7d7ca094b4",
   "outputs": [
    {
     "data": {
      "text/plain": [
       "array([ 6.,  8., 10.])"
      ]
     },
     "execution_count": 16,
     "metadata": {},
     "output_type": "execute_result"
    }
   ],
   "execution_count": 16
  },
  {
   "metadata": {
    "ExecuteTime": {
     "end_time": "2025-01-24T03:08:50.397994Z",
     "start_time": "2025-01-24T03:08:50.392989Z"
    }
   },
   "cell_type": "code",
   "source": [
    "# 参数 f是要进行最优化的函数，init_x是初始值，lr是学习率 learning rate，step_num是梯度法的重复次数\n",
    "def gradient_descent(f, init_x, lr=0.01, step_num=100):\n",
    "    x = init_x\n",
    "\n",
    "    for i in range(step_num):\n",
    "        grad = numerical_gradient(f, x)\n",
    "        x -= lr * grad\n",
    "\n",
    "    return x"
   ],
   "id": "d89706cf90b36fe4",
   "outputs": [],
   "execution_count": 17
  },
  {
   "metadata": {
    "ExecuteTime": {
     "end_time": "2025-01-24T03:08:50.460150Z",
     "start_time": "2025-01-24T03:08:50.444983Z"
    }
   },
   "cell_type": "code",
   "source": [
    "init_x = np.array([-3.0, 4.0])\n",
    "gradient_descent(function_2, init_x=init_x, lr=0.1, step_num=100)"
   ],
   "id": "17840d2a58bac85c",
   "outputs": [
    {
     "data": {
      "text/plain": [
       "array([-6.11110793e-10,  8.14814391e-10])"
      ]
     },
     "execution_count": 18,
     "metadata": {},
     "output_type": "execute_result"
    }
   ],
   "execution_count": 18
  },
  {
   "metadata": {
    "ExecuteTime": {
     "end_time": "2025-01-24T03:08:50.532286Z",
     "start_time": "2025-01-24T03:08:50.521901Z"
    }
   },
   "cell_type": "code",
   "source": [
    "init_x = np.array([-3.0, 4.0])\n",
    "gradient_descent(function_2, init_x=init_x, lr=10.0, step_num=100) # 学习率过大，会发散"
   ],
   "id": "d9105241447ca1e1",
   "outputs": [
    {
     "data": {
      "text/plain": [
       "array([-2.58983747e+13, -1.29524862e+12])"
      ]
     },
     "execution_count": 19,
     "metadata": {},
     "output_type": "execute_result"
    }
   ],
   "execution_count": 19
  },
  {
   "metadata": {
    "ExecuteTime": {
     "end_time": "2025-01-24T03:08:50.560829Z",
     "start_time": "2025-01-24T03:08:50.550886Z"
    }
   },
   "cell_type": "code",
   "source": [
    "init_x = np.array([-3.0, 4.0])\n",
    "gradient_descent(function_2, init_x=init_x, lr=1e-10, step_num=100) # 学习率过小，几乎不会更新"
   ],
   "id": "b7faa449ff19bcb1",
   "outputs": [
    {
     "data": {
      "text/plain": [
       "array([-2.99999994,  3.99999992])"
      ]
     },
     "execution_count": 20,
     "metadata": {},
     "output_type": "execute_result"
    }
   ],
   "execution_count": 20
  }
 ],
 "metadata": {
  "kernelspec": {
   "display_name": "Python 3",
   "language": "python",
   "name": "python3"
  },
  "language_info": {
   "codemirror_mode": {
    "name": "ipython",
    "version": 2
   },
   "file_extension": ".py",
   "mimetype": "text/x-python",
   "name": "python",
   "nbconvert_exporter": "python",
   "pygments_lexer": "ipython2",
   "version": "2.7.6"
  }
 },
 "nbformat": 4,
 "nbformat_minor": 5
}
